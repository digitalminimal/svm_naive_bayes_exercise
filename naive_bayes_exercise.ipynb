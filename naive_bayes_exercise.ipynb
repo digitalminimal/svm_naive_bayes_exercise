{
  "nbformat": 4,
  "nbformat_minor": 0,
  "metadata": {
    "kernelspec": {
      "display_name": "Python 3",
      "language": "python",
      "name": "python3"
    },
    "language_info": {
      "codemirror_mode": {
        "name": "ipython",
        "version": 3
      },
      "file_extension": ".py",
      "mimetype": "text/x-python",
      "name": "python",
      "nbconvert_exporter": "python",
      "pygments_lexer": "ipython3",
      "version": "3.8.5"
    },
    "toc": {
      "base_numbering": 1,
      "nav_menu": {},
      "number_sections": true,
      "sideBar": true,
      "skip_h1_title": false,
      "title_cell": "Table of Contents",
      "title_sidebar": "Contents",
      "toc_cell": false,
      "toc_position": {},
      "toc_section_display": true,
      "toc_window_display": false
    },
    "varInspector": {
      "cols": {
        "lenName": 16,
        "lenType": 16,
        "lenVar": 40
      },
      "kernels_config": {
        "python": {
          "delete_cmd_postfix": "",
          "delete_cmd_prefix": "del ",
          "library": "var_list.py",
          "varRefreshCmd": "print(var_dic_list())"
        },
        "r": {
          "delete_cmd_postfix": ") ",
          "delete_cmd_prefix": "rm(",
          "library": "var_list.r",
          "varRefreshCmd": "cat(var_dic_list()) "
        }
      },
      "types_to_exclude": [
        "module",
        "function",
        "builtin_function_or_method",
        "instance",
        "_Feature"
      ],
      "window_display": false
    },
    "colab": {
      "name": "naive_bayes_exercise.ipynb",
      "provenance": []
    }
  },
  "cells": [
    {
      "cell_type": "markdown",
      "metadata": {
        "id": "FwPRQFvxgefN"
      },
      "source": [
        "## Naive Bayes Exercise"
      ]
    },
    {
      "cell_type": "code",
      "metadata": {
        "ExecuteTime": {
          "end_time": "2020-04-27T09:08:33.690322Z",
          "start_time": "2020-04-27T09:08:33.242330Z"
        },
        "id": "kpGznEfbgefO"
      },
      "source": [
        "# import pandas \n",
        "import pandas as pd"
      ],
      "execution_count": 31,
      "outputs": []
    },
    {
      "cell_type": "code",
      "metadata": {
        "ExecuteTime": {
          "end_time": "2020-04-27T09:08:34.497862Z",
          "start_time": "2020-04-27T09:08:33.723438Z"
        },
        "id": "APJpOH5lgefO"
      },
      "source": [
        "from sklearn import datasets\n",
        "\n",
        "#Load dataet\n",
        "wine = datasets.load_wine()"
      ],
      "execution_count": 32,
      "outputs": []
    },
    {
      "cell_type": "markdown",
      "metadata": {
        "id": "oJikPNAggefO"
      },
      "source": [
        "* Print the available keys of the wine dictionary."
      ]
    },
    {
      "cell_type": "code",
      "metadata": {
        "colab": {
          "base_uri": "https://localhost:8080/"
        },
        "id": "yKSSbrT1hfhL",
        "outputId": "449c58fb-17aa-4fe5-b3a5-805946a2e254"
      },
      "source": [
        "# print(dictionary.items()) #prints keys and values\n",
        "print(wine.keys()) #prints keys\n",
        "# print(dictionary.values()) #prints values"
      ],
      "execution_count": 33,
      "outputs": [
        {
          "output_type": "stream",
          "name": "stdout",
          "text": [
            "dict_keys(['data', 'target', 'target_names', 'DESCR', 'feature_names'])\n"
          ]
        }
      ]
    },
    {
      "cell_type": "code",
      "metadata": {
        "ExecuteTime": {
          "end_time": "2020-04-27T09:09:13.384657Z",
          "start_time": "2020-04-27T09:09:13.377323Z"
        },
        "colab": {
          "base_uri": "https://localhost:8080/"
        },
        "id": "PpuiU1bpgefP",
        "outputId": "b40aec8b-7328-4b70-a69b-a889a3191a6e"
      },
      "source": [
        "print(wine.DESCR)"
      ],
      "execution_count": 34,
      "outputs": [
        {
          "output_type": "stream",
          "name": "stdout",
          "text": [
            ".. _wine_dataset:\n",
            "\n",
            "Wine recognition dataset\n",
            "------------------------\n",
            "\n",
            "**Data Set Characteristics:**\n",
            "\n",
            "    :Number of Instances: 178 (50 in each of three classes)\n",
            "    :Number of Attributes: 13 numeric, predictive attributes and the class\n",
            "    :Attribute Information:\n",
            " \t\t- Alcohol\n",
            " \t\t- Malic acid\n",
            " \t\t- Ash\n",
            "\t\t- Alcalinity of ash  \n",
            " \t\t- Magnesium\n",
            "\t\t- Total phenols\n",
            " \t\t- Flavanoids\n",
            " \t\t- Nonflavanoid phenols\n",
            " \t\t- Proanthocyanins\n",
            "\t\t- Color intensity\n",
            " \t\t- Hue\n",
            " \t\t- OD280/OD315 of diluted wines\n",
            " \t\t- Proline\n",
            "\n",
            "    - class:\n",
            "            - class_0\n",
            "            - class_1\n",
            "            - class_2\n",
            "\t\t\n",
            "    :Summary Statistics:\n",
            "    \n",
            "    ============================= ==== ===== ======= =====\n",
            "                                   Min   Max   Mean     SD\n",
            "    ============================= ==== ===== ======= =====\n",
            "    Alcohol:                      11.0  14.8    13.0   0.8\n",
            "    Malic Acid:                   0.74  5.80    2.34  1.12\n",
            "    Ash:                          1.36  3.23    2.36  0.27\n",
            "    Alcalinity of Ash:            10.6  30.0    19.5   3.3\n",
            "    Magnesium:                    70.0 162.0    99.7  14.3\n",
            "    Total Phenols:                0.98  3.88    2.29  0.63\n",
            "    Flavanoids:                   0.34  5.08    2.03  1.00\n",
            "    Nonflavanoid Phenols:         0.13  0.66    0.36  0.12\n",
            "    Proanthocyanins:              0.41  3.58    1.59  0.57\n",
            "    Colour Intensity:              1.3  13.0     5.1   2.3\n",
            "    Hue:                          0.48  1.71    0.96  0.23\n",
            "    OD280/OD315 of diluted wines: 1.27  4.00    2.61  0.71\n",
            "    Proline:                       278  1680     746   315\n",
            "    ============================= ==== ===== ======= =====\n",
            "\n",
            "    :Missing Attribute Values: None\n",
            "    :Class Distribution: class_0 (59), class_1 (71), class_2 (48)\n",
            "    :Creator: R.A. Fisher\n",
            "    :Donor: Michael Marshall (MARSHALL%PLU@io.arc.nasa.gov)\n",
            "    :Date: July, 1988\n",
            "\n",
            "This is a copy of UCI ML Wine recognition datasets.\n",
            "https://archive.ics.uci.edu/ml/machine-learning-databases/wine/wine.data\n",
            "\n",
            "The data is the results of a chemical analysis of wines grown in the same\n",
            "region in Italy by three different cultivators. There are thirteen different\n",
            "measurements taken for different constituents found in the three types of\n",
            "wine.\n",
            "\n",
            "Original Owners: \n",
            "\n",
            "Forina, M. et al, PARVUS - \n",
            "An Extendible Package for Data Exploration, Classification and Correlation. \n",
            "Institute of Pharmaceutical and Food Analysis and Technologies,\n",
            "Via Brigata Salerno, 16147 Genoa, Italy.\n",
            "\n",
            "Citation:\n",
            "\n",
            "Lichman, M. (2013). UCI Machine Learning Repository\n",
            "[https://archive.ics.uci.edu/ml]. Irvine, CA: University of California,\n",
            "School of Information and Computer Science. \n",
            "\n",
            ".. topic:: References\n",
            "\n",
            "  (1) S. Aeberhard, D. Coomans and O. de Vel, \n",
            "  Comparison of Classifiers in High Dimensional Settings, \n",
            "  Tech. Rep. no. 92-02, (1992), Dept. of Computer Science and Dept. of  \n",
            "  Mathematics and Statistics, James Cook University of North Queensland. \n",
            "  (Also submitted to Technometrics). \n",
            "\n",
            "  The data was used with many others for comparing various \n",
            "  classifiers. The classes are separable, though only RDA \n",
            "  has achieved 100% correct classification. \n",
            "  (RDA : 100%, QDA 99.4%, LDA 98.9%, 1NN 96.1% (z-transformed data)) \n",
            "  (All results using the leave-one-out technique) \n",
            "\n",
            "  (2) S. Aeberhard, D. Coomans and O. de Vel, \n",
            "  \"THE CLASSIFICATION PERFORMANCE OF RDA\" \n",
            "  Tech. Rep. no. 92-01, (1992), Dept. of Computer Science and Dept. of \n",
            "  Mathematics and Statistics, James Cook University of North Queensland. \n",
            "  (Also submitted to Journal of Chemometrics).\n",
            "\n"
          ]
        }
      ]
    },
    {
      "cell_type": "markdown",
      "metadata": {
        "id": "W6pGLZHxgefP"
      },
      "source": [
        "* Print the names of the 13 features."
      ]
    },
    {
      "cell_type": "code",
      "metadata": {
        "ExecuteTime": {
          "end_time": "2020-04-27T09:09:29.034369Z",
          "start_time": "2020-04-27T09:09:29.027377Z"
        },
        "colab": {
          "base_uri": "https://localhost:8080/"
        },
        "id": "yMLdeoWWgefP",
        "outputId": "4c9e73f6-f9ee-4108-92a6-9798197666a8"
      },
      "source": [
        "wine.feature_names\n"
      ],
      "execution_count": 35,
      "outputs": [
        {
          "output_type": "execute_result",
          "data": {
            "text/plain": [
              "['alcohol',\n",
              " 'malic_acid',\n",
              " 'ash',\n",
              " 'alcalinity_of_ash',\n",
              " 'magnesium',\n",
              " 'total_phenols',\n",
              " 'flavanoids',\n",
              " 'nonflavanoid_phenols',\n",
              " 'proanthocyanins',\n",
              " 'color_intensity',\n",
              " 'hue',\n",
              " 'od280/od315_of_diluted_wines',\n",
              " 'proline']"
            ]
          },
          "metadata": {},
          "execution_count": 35
        }
      ]
    },
    {
      "cell_type": "markdown",
      "metadata": {
        "id": "eLTzdFw4gefP"
      },
      "source": [
        "* Print the label type of the different wines (class_0, class_1, class_2)."
      ]
    },
    {
      "cell_type": "code",
      "metadata": {
        "ExecuteTime": {
          "end_time": "2020-04-27T09:10:00.616519Z",
          "start_time": "2020-04-27T09:10:00.599737Z"
        },
        "colab": {
          "base_uri": "https://localhost:8080/"
        },
        "id": "6uwcA_PYgefP",
        "outputId": "2ca48fd7-f5a6-4da9-e904-c15a9a24a66f"
      },
      "source": [
        "print(wine.target_names)# print(dictionary.items()) #prints keys and values\n",
        "print(set(wine.target))# print(dictionary.items()) #prints keys and values"
      ],
      "execution_count": 36,
      "outputs": [
        {
          "output_type": "stream",
          "name": "stdout",
          "text": [
            "['class_0' 'class_1' 'class_2']\n",
            "{0, 1, 2}\n"
          ]
        }
      ]
    },
    {
      "cell_type": "markdown",
      "metadata": {
        "id": "j1GgVIUNgefP"
      },
      "source": [
        "* Print the data (feature) shape."
      ]
    },
    {
      "cell_type": "code",
      "metadata": {
        "ExecuteTime": {
          "end_time": "2020-04-27T09:10:19.015644Z",
          "start_time": "2020-04-27T09:10:19.008214Z"
        },
        "colab": {
          "base_uri": "https://localhost:8080/"
        },
        "id": "89x8HBzdgefP",
        "outputId": "ba5099e5-eada-406d-fd6e-83976db32f0d"
      },
      "source": [
        "\n",
        "X = wine.data\n",
        "\n",
        "y = wine.target\n",
        "\n",
        "print(X.shape)"
      ],
      "execution_count": 37,
      "outputs": [
        {
          "output_type": "stream",
          "name": "stdout",
          "text": [
            "(178, 13)\n"
          ]
        }
      ]
    },
    {
      "cell_type": "markdown",
      "metadata": {
        "id": "HEEAnfwJgefQ"
      },
      "source": [
        "* Import the train_test_split function from sklearn.\n",
        "* Split the dataset into training set and test set. Use a 70:30 train & test ratio."
      ]
    },
    {
      "cell_type": "code",
      "metadata": {
        "ExecuteTime": {
          "end_time": "2020-04-27T09:10:39.029111Z",
          "start_time": "2020-04-27T09:10:39.002468Z"
        },
        "id": "pJJ9Zo0ogefQ"
      },
      "source": [
        "\n",
        "from sklearn.model_selection import train_test_split\n",
        "\n",
        "X_train, X_test, y_train, y_test = train_test_split(X, y, test_size=0.3, random_state=1)\n",
        "\n"
      ],
      "execution_count": 38,
      "outputs": []
    },
    {
      "cell_type": "markdown",
      "metadata": {
        "id": "og7mhmRmgefQ"
      },
      "source": [
        ""
      ]
    },
    {
      "cell_type": "code",
      "metadata": {
        "ExecuteTime": {
          "end_time": "2020-04-27T09:10:53.813899Z",
          "start_time": "2020-04-27T09:10:53.807073Z"
        },
        "id": "vC3vDU6ZgefQ"
      },
      "source": [
        ""
      ],
      "execution_count": 38,
      "outputs": []
    },
    {
      "cell_type": "markdown",
      "metadata": {
        "id": "mvBQNnaWgefQ"
      },
      "source": [
        "* Import the Gaussian Naive Bayes model from sklearn."
      ]
    },
    {
      "cell_type": "code",
      "metadata": {
        "ExecuteTime": {
          "end_time": "2020-04-27T09:11:08.297945Z",
          "start_time": "2020-04-27T09:11:08.289876Z"
        },
        "id": "1MHDy2o4gefQ"
      },
      "source": [
        "\n",
        "from sklearn.naive_bayes import GaussianNB\n"
      ],
      "execution_count": 39,
      "outputs": []
    },
    {
      "cell_type": "markdown",
      "metadata": {
        "id": "LwPJPkHSgefQ"
      },
      "source": [
        "* Instatiate a Gaussian Classifier."
      ]
    },
    {
      "cell_type": "code",
      "metadata": {
        "ExecuteTime": {
          "end_time": "2020-04-27T09:11:26.349041Z",
          "start_time": "2020-04-27T09:11:26.344564Z"
        },
        "id": "ouSZx-g5gefR"
      },
      "source": [
        "\n",
        "gnb = GaussianNB()\n"
      ],
      "execution_count": 40,
      "outputs": []
    },
    {
      "cell_type": "markdown",
      "metadata": {
        "id": "vgXqPJvkgefR"
      },
      "source": [
        "* Train the model using the training set."
      ]
    },
    {
      "cell_type": "code",
      "metadata": {
        "ExecuteTime": {
          "end_time": "2020-04-27T09:11:42.659562Z",
          "start_time": "2020-04-27T09:11:42.651012Z"
        },
        "colab": {
          "base_uri": "https://localhost:8080/"
        },
        "id": "jToPnvOWgefR",
        "outputId": "6e12dba5-3bc3-4401-fc01-9db92dfdc08d"
      },
      "source": [
        "\n",
        "gnb.fit(X_train, y_train)\n",
        "\n",
        " "
      ],
      "execution_count": 41,
      "outputs": [
        {
          "output_type": "execute_result",
          "data": {
            "text/plain": [
              "GaussianNB(priors=None, var_smoothing=1e-09)"
            ]
          },
          "metadata": {},
          "execution_count": 41
        }
      ]
    },
    {
      "cell_type": "markdown",
      "metadata": {
        "id": "BsrfiwDtgefR"
      },
      "source": [
        "* Predict the response on the testing set."
      ]
    },
    {
      "cell_type": "code",
      "metadata": {
        "ExecuteTime": {
          "end_time": "2020-04-27T09:11:58.062663Z",
          "start_time": "2020-04-27T09:11:58.057963Z"
        },
        "id": "_EBr554xgefR"
      },
      "source": [
        " \n",
        "\n",
        "y_pred = gnb.predict(X_test)"
      ],
      "execution_count": 42,
      "outputs": []
    },
    {
      "cell_type": "markdown",
      "metadata": {
        "id": "6JJVtkJhgefR"
      },
      "source": [
        "* Import accuracy_score from scikit-learn. "
      ]
    },
    {
      "cell_type": "code",
      "metadata": {
        "ExecuteTime": {
          "end_time": "2020-04-27T09:12:14.647647Z",
          "start_time": "2020-04-27T09:12:14.642259Z"
        },
        "id": "IZXO3sJKgefR"
      },
      "source": [
        "\n",
        "from sklearn import metrics\n"
      ],
      "execution_count": 43,
      "outputs": []
    },
    {
      "cell_type": "markdown",
      "metadata": {
        "id": "35AKayMugefS"
      },
      "source": [
        "* What is the accuracy of our classifier?"
      ]
    },
    {
      "cell_type": "code",
      "metadata": {
        "ExecuteTime": {
          "end_time": "2020-04-27T09:12:39.045253Z",
          "start_time": "2020-04-27T09:12:39.036325Z"
        },
        "colab": {
          "base_uri": "https://localhost:8080/"
        },
        "id": "ptdZcQoOgefS",
        "outputId": "377aa0fd-48a2-416d-dde7-e5a99a80464b"
      },
      "source": [
        "\n",
        "print(\"Gaussian Naive Bayes model accuracy(in %):\", metrics.accuracy_score(y_test, y_pred)*100)"
      ],
      "execution_count": 54,
      "outputs": [
        {
          "output_type": "stream",
          "name": "stdout",
          "text": [
            "Gaussian Naive Bayes model accuracy(in %): 98.14814814814815\n"
          ]
        }
      ]
    },
    {
      "cell_type": "markdown",
      "metadata": {
        "id": "8q_OV9KigefS"
      },
      "source": [
        "* Use another metric to evaluate your model."
      ]
    },
    {
      "cell_type": "code",
      "metadata": {
        "id": "vdqnr_OUgefS"
      },
      "source": [
        ""
      ],
      "execution_count": 44,
      "outputs": []
    },
    {
      "cell_type": "code",
      "metadata": {
        "colab": {
          "base_uri": "https://localhost:8080/"
        },
        "id": "5Q8ZQInmgefS",
        "outputId": "8781b333-a4c3-4176-d4a5-9dd28f70df90"
      },
      "source": [
        "test_prob=y_pred\n",
        "test_pred=y_pred\n",
        "from sklearn.metrics import log_loss, roc_auc_score, recall_score, precision_score, average_precision_score, f1_score, classification_report, accuracy_score, plot_roc_curve, plot_precision_recall_curve, plot_confusion_matrix\n",
        "# print('Log loss = {:.5f}'.format(log_loss(y_test, test_prob)))\n",
        "# print('AUC = {:.5f}'.format(roc_auc_score(y_test, test_prob)))\n",
        "# print('Average Precision = {:.5f}'.format(average_precision_score(y_test, test_prob)))\n",
        "print('\\nUsing 0.5 as threshold:')\n",
        "print('Accuracy = {:.5f}'.format(accuracy_score(y_test, test_pred)))\n",
        "# print('Precision = {:.5f}'.format(precision_score(y_test, test_pred)))\n",
        "# print('Recall = {:.5f}'.format(recall_score(y_test, test_pred)))\n",
        "# print('F1 score = {:.5f}'.format(f1_score(y_test, test_pred)))\n",
        "\n",
        "print('\\nClassification Report')\n",
        "print(classification_report(y_test, test_pred))"
      ],
      "execution_count": 53,
      "outputs": [
        {
          "output_type": "stream",
          "name": "stdout",
          "text": [
            "\n",
            "Using 0.5 as threshold:\n",
            "Accuracy = 0.98148\n",
            "\n",
            "Classification Report\n",
            "              precision    recall  f1-score   support\n",
            "\n",
            "           0       0.96      1.00      0.98        23\n",
            "           1       1.00      0.95      0.97        19\n",
            "           2       1.00      1.00      1.00        12\n",
            "\n",
            "    accuracy                           0.98        54\n",
            "   macro avg       0.99      0.98      0.98        54\n",
            "weighted avg       0.98      0.98      0.98        54\n",
            "\n"
          ]
        }
      ]
    }
  ]
}