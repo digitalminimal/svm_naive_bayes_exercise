{
  "nbformat": 4,
  "nbformat_minor": 0,
  "metadata": {
    "kernelspec": {
      "display_name": "Python 3",
      "language": "python",
      "name": "python3"
    },
    "language_info": {
      "codemirror_mode": {
        "name": "ipython",
        "version": 3
      },
      "file_extension": ".py",
      "mimetype": "text/x-python",
      "name": "python",
      "nbconvert_exporter": "python",
      "pygments_lexer": "ipython3",
      "version": "3.8.5"
    },
    "toc": {
      "base_numbering": 1,
      "nav_menu": {},
      "number_sections": true,
      "sideBar": true,
      "skip_h1_title": false,
      "title_cell": "Table of Contents",
      "title_sidebar": "Contents",
      "toc_cell": false,
      "toc_position": {},
      "toc_section_display": true,
      "toc_window_display": false
    },
    "varInspector": {
      "cols": {
        "lenName": 16,
        "lenType": 16,
        "lenVar": 40
      },
      "kernels_config": {
        "python": {
          "delete_cmd_postfix": "",
          "delete_cmd_prefix": "del ",
          "library": "var_list.py",
          "varRefreshCmd": "print(var_dic_list())"
        },
        "r": {
          "delete_cmd_postfix": ") ",
          "delete_cmd_prefix": "rm(",
          "library": "var_list.r",
          "varRefreshCmd": "cat(var_dic_list()) "
        }
      },
      "types_to_exclude": [
        "module",
        "function",
        "builtin_function_or_method",
        "instance",
        "_Feature"
      ],
      "window_display": false
    },
    "colab": {
      "name": "naive_bayes_exercise.ipynb",
      "provenance": []
    }
  },
  "cells": [
    {
      "cell_type": "markdown",
      "metadata": {
        "id": "FwPRQFvxgefN"
      },
      "source": [
        "## Naive Bayes Exercise"
      ]
    },
    {
      "cell_type": "code",
      "metadata": {
        "ExecuteTime": {
          "end_time": "2020-04-27T09:08:33.690322Z",
          "start_time": "2020-04-27T09:08:33.242330Z"
        },
        "id": "kpGznEfbgefO"
      },
      "source": [
        "# import pandas \n",
        "import pandas as pd"
      ],
      "execution_count": 1,
      "outputs": []
    },
    {
      "cell_type": "code",
      "metadata": {
        "ExecuteTime": {
          "end_time": "2020-04-27T09:08:34.497862Z",
          "start_time": "2020-04-27T09:08:33.723438Z"
        },
        "id": "APJpOH5lgefO"
      },
      "source": [
        "from sklearn import datasets\n",
        "\n",
        "#Load dataet\n",
        "wine = datasets.load_wine()"
      ],
      "execution_count": 2,
      "outputs": []
    },
    {
      "cell_type": "markdown",
      "metadata": {
        "id": "oJikPNAggefO"
      },
      "source": [
        "* Print the available keys of the wine dictionary."
      ]
    },
    {
      "cell_type": "code",
      "metadata": {
        "ExecuteTime": {
          "end_time": "2020-04-27T09:09:13.384657Z",
          "start_time": "2020-04-27T09:09:13.377323Z"
        },
        "id": "PpuiU1bpgefP"
      },
      "source": [
        ""
      ],
      "execution_count": null,
      "outputs": []
    },
    {
      "cell_type": "markdown",
      "metadata": {
        "id": "W6pGLZHxgefP"
      },
      "source": [
        "* Print the names of the 13 features."
      ]
    },
    {
      "cell_type": "code",
      "metadata": {
        "ExecuteTime": {
          "end_time": "2020-04-27T09:09:29.034369Z",
          "start_time": "2020-04-27T09:09:29.027377Z"
        },
        "id": "yMLdeoWWgefP"
      },
      "source": [
        ""
      ],
      "execution_count": null,
      "outputs": []
    },
    {
      "cell_type": "markdown",
      "metadata": {
        "id": "eLTzdFw4gefP"
      },
      "source": [
        "* Print the label type of the different wines (class_0, class_1, class_2)."
      ]
    },
    {
      "cell_type": "code",
      "metadata": {
        "ExecuteTime": {
          "end_time": "2020-04-27T09:10:00.616519Z",
          "start_time": "2020-04-27T09:10:00.599737Z"
        },
        "id": "6uwcA_PYgefP"
      },
      "source": [
        ""
      ],
      "execution_count": null,
      "outputs": []
    },
    {
      "cell_type": "markdown",
      "metadata": {
        "id": "j1GgVIUNgefP"
      },
      "source": [
        "* Print the data (feature) shape."
      ]
    },
    {
      "cell_type": "code",
      "metadata": {
        "ExecuteTime": {
          "end_time": "2020-04-27T09:10:19.015644Z",
          "start_time": "2020-04-27T09:10:19.008214Z"
        },
        "id": "89x8HBzdgefP"
      },
      "source": [
        ""
      ],
      "execution_count": null,
      "outputs": []
    },
    {
      "cell_type": "markdown",
      "metadata": {
        "id": "HEEAnfwJgefQ"
      },
      "source": [
        "* Import the train_test_split function from sklearn."
      ]
    },
    {
      "cell_type": "code",
      "metadata": {
        "ExecuteTime": {
          "end_time": "2020-04-27T09:10:39.029111Z",
          "start_time": "2020-04-27T09:10:39.002468Z"
        },
        "id": "pJJ9Zo0ogefQ"
      },
      "source": [
        ""
      ],
      "execution_count": null,
      "outputs": []
    },
    {
      "cell_type": "markdown",
      "metadata": {
        "id": "og7mhmRmgefQ"
      },
      "source": [
        "* Split the dataset into training set and test set. Use a 70:30 train & test ratio."
      ]
    },
    {
      "cell_type": "code",
      "metadata": {
        "ExecuteTime": {
          "end_time": "2020-04-27T09:10:53.813899Z",
          "start_time": "2020-04-27T09:10:53.807073Z"
        },
        "id": "vC3vDU6ZgefQ"
      },
      "source": [
        ""
      ],
      "execution_count": null,
      "outputs": []
    },
    {
      "cell_type": "markdown",
      "metadata": {
        "id": "mvBQNnaWgefQ"
      },
      "source": [
        "* Import the Gaussian Naive Bayes model from sklearn."
      ]
    },
    {
      "cell_type": "code",
      "metadata": {
        "ExecuteTime": {
          "end_time": "2020-04-27T09:11:08.297945Z",
          "start_time": "2020-04-27T09:11:08.289876Z"
        },
        "id": "1MHDy2o4gefQ"
      },
      "source": [
        ""
      ],
      "execution_count": null,
      "outputs": []
    },
    {
      "cell_type": "markdown",
      "metadata": {
        "id": "LwPJPkHSgefQ"
      },
      "source": [
        "* Instatiate a Gaussian Classifier."
      ]
    },
    {
      "cell_type": "code",
      "metadata": {
        "ExecuteTime": {
          "end_time": "2020-04-27T09:11:26.349041Z",
          "start_time": "2020-04-27T09:11:26.344564Z"
        },
        "id": "ouSZx-g5gefR"
      },
      "source": [
        ""
      ],
      "execution_count": null,
      "outputs": []
    },
    {
      "cell_type": "markdown",
      "metadata": {
        "id": "vgXqPJvkgefR"
      },
      "source": [
        "* Train the model using the training set."
      ]
    },
    {
      "cell_type": "code",
      "metadata": {
        "ExecuteTime": {
          "end_time": "2020-04-27T09:11:42.659562Z",
          "start_time": "2020-04-27T09:11:42.651012Z"
        },
        "id": "jToPnvOWgefR"
      },
      "source": [
        ""
      ],
      "execution_count": null,
      "outputs": []
    },
    {
      "cell_type": "markdown",
      "metadata": {
        "id": "BsrfiwDtgefR"
      },
      "source": [
        "* Predict the response on the testing set."
      ]
    },
    {
      "cell_type": "code",
      "metadata": {
        "ExecuteTime": {
          "end_time": "2020-04-27T09:11:58.062663Z",
          "start_time": "2020-04-27T09:11:58.057963Z"
        },
        "id": "_EBr554xgefR"
      },
      "source": [
        ""
      ],
      "execution_count": null,
      "outputs": []
    },
    {
      "cell_type": "markdown",
      "metadata": {
        "id": "6JJVtkJhgefR"
      },
      "source": [
        "* Import accuracy_score from scikit-learn. "
      ]
    },
    {
      "cell_type": "code",
      "metadata": {
        "ExecuteTime": {
          "end_time": "2020-04-27T09:12:14.647647Z",
          "start_time": "2020-04-27T09:12:14.642259Z"
        },
        "id": "IZXO3sJKgefR"
      },
      "source": [
        ""
      ],
      "execution_count": null,
      "outputs": []
    },
    {
      "cell_type": "markdown",
      "metadata": {
        "id": "35AKayMugefS"
      },
      "source": [
        "* What is the accuracy of our classifier?"
      ]
    },
    {
      "cell_type": "code",
      "metadata": {
        "ExecuteTime": {
          "end_time": "2020-04-27T09:12:39.045253Z",
          "start_time": "2020-04-27T09:12:39.036325Z"
        },
        "id": "ptdZcQoOgefS"
      },
      "source": [
        ""
      ],
      "execution_count": null,
      "outputs": []
    },
    {
      "cell_type": "markdown",
      "metadata": {
        "id": "8q_OV9KigefS"
      },
      "source": [
        "* Use another metric to evaluate your model."
      ]
    },
    {
      "cell_type": "code",
      "metadata": {
        "id": "vdqnr_OUgefS"
      },
      "source": [
        ""
      ],
      "execution_count": null,
      "outputs": []
    },
    {
      "cell_type": "code",
      "metadata": {
        "id": "5Q8ZQInmgefS"
      },
      "source": [
        ""
      ],
      "execution_count": null,
      "outputs": []
    }
  ]
}